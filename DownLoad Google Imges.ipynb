{
 "cells": [
  {
   "cell_type": "code",
   "execution_count": 22,
   "metadata": {},
   "outputs": [
    {
     "name": "stdout",
     "output_type": "stream",
     "text": [
      "\n",
      "Item no.: 1 --> Item name = German Shepherd\n",
      "Evaluating...\n",
      "Starting Download...\n",
      "Completed Image ====> 1.German-Shepherd-on-White-00.jpg\n",
      "Completed Image ====> 2.German-Shepherd-puppies.jpg\n",
      "Completed Image ====> 3.02.Owczarek_niemiecki_u%C5%BCytkowy_kr%C3%B3tkow%C5%82osy_suka.jpg\n",
      "Completed Image ====> 4.standing-7.jpg\n",
      "Completed Image ====> 5.german-shepherd-dog-detail.jpg\n",
      "Invalid or missing image format. Skipping...\n",
      "Completed Image ====> 6.file_23188_german-shepherd-dog-460x290.jpg\n",
      "Invalid or missing image format. Skipping...\n",
      "Completed Image ====> 7.your-female-german-shepherd-SC-long.jpg\n",
      "Completed Image ====> 8.German-Shepherd-Dog-Care.jpg\n",
      "Completed Image ====> 9.german-shepherd-dog-breed-info.jpg\n",
      "Completed Image ====> 10.istock_000012020816_small.jpg\n",
      "Completed Image ====> 11.GermanShepherd.jpg\n",
      "URLError on an image...trying next one... Error: HTTP Error 403: Forbidden\n",
      "Completed Image ====> 12.German-Shepherd-2-645mk062411.jpg\n",
      "Completed Image ====> 13.German-Shepherd-Standard-Coat-GSC-1000x575-1-1-1-1.jpg\n",
      "Completed Image ====> 14.silver-german-shepherd-long.jpg\n",
      "Completed Image ====> 15.1_Training-5ba51359c9e77c0025ca6a5c.jpg\n",
      "Completed Image ====> 16.7298be620d1a7130be8c3fa035b215ff.jpg\n",
      "Completed Image ====> 17.german-shepherd-dog-1071592_1920-1024x683.jpg\n",
      "Completed Image ====> 18.german-shepherd-puppy-image.jpg\n",
      "Completed Image ====> 19.GSD-Standing-GSC-600x425.jpg\n",
      "Completed Image ====> 20.gv129-kronos-anatomy-english-with-upperline_4.png\n",
      "Completed Image ====> 21.54fst046zxr11.jpg\n",
      "Completed Image ====> 22.12713429_f520.jpg\n",
      "Completed Image ====> 23.German%20Shepherd%201%20gsd_043007_hp_md_2.jpg\n",
      "Completed Image ====> 24.German-Shepherd.jpg\n",
      "Completed Image ====> 25.400px-DSHwiki.jpg\n",
      "Completed Image ====> 26.german-shepherd-2254252_1920-1024x681.jpg\n",
      "Completed Image ====> 27.German-Sheperd-Image-1-composite.jpg\n",
      "Completed Image ====> 28.emaciated-pup.jpg\n",
      "Completed Image ====> 29.german-shepherd-700x700.jpg\n",
      "Completed Image ====> 30.german-shepherd-411613_1280.jpg\n",
      "Completed Image ====> 31.csm_verein-fuer-deutsche-schaeferhunde-zucht-EN_e19c1267d7.jpg\n",
      "Invalid or missing image format. Skipping...\n",
      "Completed Image ====> 32.800.jpeg\n",
      "Completed Image ====> 33.IMG_2060.jpg\n",
      "Completed Image ====> 34.636540502213846121-Fanucci.JPG\n",
      "Completed Image ====> 35.367px-Berger_allemand_en_montagne_2.jpg\n",
      "Completed Image ====> 36.puppies03.JPG\n",
      "Completed Image ====> 37.GermanShepherdGSDDogCrixus7MonthsOld85Pounds.jpg\n",
      "Completed Image ====> 38.german-shepherd-tongue-out-outside.jpg\n",
      "Completed Image ====> 39.german-shepherd-ap-0hh8kp-645.jpg\n",
      "Completed Image ====> 40.German-Shepherd-Dog-History-02-2.jpg\n",
      "Completed Image ====> 41.embark-german-shepherd-guide-featured-image.jpg\n",
      "Completed Image ====> 42.german-shepherd-dog-card-small.jpg\n",
      "Completed Image ====> 43.img_2562.jpg\n",
      "IOError on an image...trying next one... Error: The read operation timed out\n",
      "Completed Image ====> 44.DogiZoneBlog-March14-FB.png\n",
      "Completed Image ====> 45.german-shepherd-dog.jpg\n",
      "Completed Image ====> 46.Maomi-Gymor101.jpg\n",
      "Completed Image ====> 47.Miniature-German-Shepherd-Feature.jpg\n",
      "Completed Image ====> 48.german-shepherd-gallery-6-min.jpg\n",
      "Completed Image ====> 49.giphy.gif\n",
      "Invalid or missing image format. Skipping...\n",
      "URLError on an image...trying next one... Error: HTTP Error 403: Forbidden\n",
      "Completed Image ====> 50.03.-German-shepherd.jpg\n",
      "\n",
      "Errors: 7\n",
      "\n"
     ]
    }
   ],
   "source": [
    "from google_images_download import google_images_download   #importing the library\n",
    "\n",
    "response = google_images_download.googleimagesdownload()   #class instantiation\n",
    "\n",
    "arguments = {\"keywords\":\"German Shepherd\",\"limit\":50,\"print_urls\":False}   #creating list of arguments\n",
    "paths = response.download(arguments)   #passing the arguments to the function\n",
    "#print(paths)   #printing absolute paths of the downloaded images\n",
    "\n"
   ]
  },
  {
   "cell_type": "code",
   "execution_count": null,
   "metadata": {},
   "outputs": [],
   "source": []
  },
  {
   "cell_type": "code",
   "execution_count": null,
   "metadata": {},
   "outputs": [],
   "source": []
  }
 ],
 "metadata": {
  "kernelspec": {
   "display_name": "Python 3",
   "language": "python",
   "name": "python3"
  },
  "language_info": {
   "codemirror_mode": {
    "name": "ipython",
    "version": 3
   },
   "file_extension": ".py",
   "mimetype": "text/x-python",
   "name": "python",
   "nbconvert_exporter": "python",
   "pygments_lexer": "ipython3",
   "version": "3.7.3"
  }
 },
 "nbformat": 4,
 "nbformat_minor": 2
}
